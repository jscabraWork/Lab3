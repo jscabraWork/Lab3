{
 "cells": [
  {
   "cell_type": "markdown",
   "metadata": {},
   "source": [
    "# 0. Importación de librerías \n",
    "\n",
    "En las siguientes líneas de código se importan las librerías y herramientas necesarias para desarrollar el caso de uso."
   ]
  },
  {
   "cell_type": "code",
   "execution_count": 1,
   "metadata": {},
   "outputs": [],
   "source": [
    "seed = 161\n",
    "import pandas as pd\n",
    "import numpy as np\n",
    "import matplotlib.pyplot as plt\n",
    "import seaborn as sns\n",
    "\n",
    "# Composicion de pipelines\n",
    "from sklearn.compose import ColumnTransformer\n",
    "from sklearn.pipeline import Pipeline\n",
    "from sklearn.preprocessing import StandardScaler, MinMaxScaler, FunctionTransformer\n",
    "from sklearn.impute import SimpleImputer\n",
    "\n",
    "# Regresion lineal\n",
    "from sklearn.linear_model import LinearRegression\n",
    "from sklearn.model_selection import train_test_split\n",
    "from sklearn.metrics import mean_squared_error as mse\n",
    "\n",
    "# Importar/ Exportar modelos\n",
    "from joblib import dump, load"
   ]
  },
  {
   "cell_type": "markdown",
   "metadata": {},
   "source": [
    "# 1. Carga de los datos\n",
    "A través de la librería **pandas** podemos realizar la carga de datos desde diferentes fuentes de información, en este caso se realizará la carga de un archivo plano csv, el separador del archivo es ; y se remplazaron los valores \"-\" por valores nulos."
   ]
  },
  {
   "cell_type": "code",
   "execution_count": 2,
   "metadata": {},
   "outputs": [],
   "source": [
    "# Se cargan los datos. \n",
    "df_datos=pd.read_csv('202210_Laboratorio3_data_DatosTrain.csv', sep=',', encoding = 'utf-8', header=0, na_values=[\"NA-VALUE\"])"
   ]
  },
  {
   "cell_type": "code",
   "execution_count": 3,
   "metadata": {},
   "outputs": [
    {
     "data": {
      "text/plain": [
       "(2644, 20)"
      ]
     },
     "execution_count": 3,
     "metadata": {},
     "output_type": "execute_result"
    }
   ],
   "source": [
    "# Cantidad de datos y número de variables\n",
    "df_datos.shape"
   ]
  },
  {
   "cell_type": "code",
   "execution_count": 4,
   "metadata": {},
   "outputs": [
    {
     "data": {
      "text/html": [
       "<div>\n",
       "<style scoped>\n",
       "    .dataframe tbody tr th:only-of-type {\n",
       "        vertical-align: middle;\n",
       "    }\n",
       "\n",
       "    .dataframe tbody tr th {\n",
       "        vertical-align: top;\n",
       "    }\n",
       "\n",
       "    .dataframe thead th {\n",
       "        text-align: right;\n",
       "    }\n",
       "</style>\n",
       "<table border=\"1\" class=\"dataframe\">\n",
       "  <thead>\n",
       "    <tr style=\"text-align: right;\">\n",
       "      <th></th>\n",
       "      <th>Unnamed: 0</th>\n",
       "      <th>Life expectancy</th>\n",
       "      <th>Adult Mortality</th>\n",
       "      <th>infant deaths</th>\n",
       "      <th>Alcohol</th>\n",
       "      <th>percentage expenditure</th>\n",
       "      <th>Hepatitis B</th>\n",
       "      <th>Measles</th>\n",
       "      <th>BMI</th>\n",
       "      <th>under-five deaths</th>\n",
       "      <th>Polio</th>\n",
       "      <th>Total expenditure</th>\n",
       "      <th>Diphtheria</th>\n",
       "      <th>HIV/AIDS</th>\n",
       "      <th>GDP</th>\n",
       "      <th>Population</th>\n",
       "      <th>thinness  10-19 years</th>\n",
       "      <th>thinness 5-9 years</th>\n",
       "      <th>Income composition of resources</th>\n",
       "      <th>Schooling</th>\n",
       "    </tr>\n",
       "  </thead>\n",
       "  <tbody>\n",
       "    <tr>\n",
       "      <th>0</th>\n",
       "      <td>0</td>\n",
       "      <td>65.0</td>\n",
       "      <td>263.0</td>\n",
       "      <td>62</td>\n",
       "      <td>0.01</td>\n",
       "      <td>71.279624</td>\n",
       "      <td>65.0</td>\n",
       "      <td>1154</td>\n",
       "      <td>19.1</td>\n",
       "      <td>83</td>\n",
       "      <td>6.0</td>\n",
       "      <td>8.16</td>\n",
       "      <td>65.0</td>\n",
       "      <td>0.1</td>\n",
       "      <td>584.259210</td>\n",
       "      <td>33736494.0</td>\n",
       "      <td>17.2</td>\n",
       "      <td>17.3</td>\n",
       "      <td>0.479</td>\n",
       "      <td>10.1</td>\n",
       "    </tr>\n",
       "    <tr>\n",
       "      <th>1</th>\n",
       "      <td>1</td>\n",
       "      <td>59.9</td>\n",
       "      <td>271.0</td>\n",
       "      <td>64</td>\n",
       "      <td>0.01</td>\n",
       "      <td>73.523582</td>\n",
       "      <td>62.0</td>\n",
       "      <td>492</td>\n",
       "      <td>18.6</td>\n",
       "      <td>86</td>\n",
       "      <td>58.0</td>\n",
       "      <td>8.18</td>\n",
       "      <td>62.0</td>\n",
       "      <td>0.1</td>\n",
       "      <td>612.696514</td>\n",
       "      <td>327582.0</td>\n",
       "      <td>17.5</td>\n",
       "      <td>17.5</td>\n",
       "      <td>0.476</td>\n",
       "      <td>10.0</td>\n",
       "    </tr>\n",
       "    <tr>\n",
       "      <th>2</th>\n",
       "      <td>2</td>\n",
       "      <td>59.9</td>\n",
       "      <td>268.0</td>\n",
       "      <td>66</td>\n",
       "      <td>0.01</td>\n",
       "      <td>73.219243</td>\n",
       "      <td>64.0</td>\n",
       "      <td>430</td>\n",
       "      <td>18.1</td>\n",
       "      <td>89</td>\n",
       "      <td>62.0</td>\n",
       "      <td>8.13</td>\n",
       "      <td>64.0</td>\n",
       "      <td>0.1</td>\n",
       "      <td>631.744976</td>\n",
       "      <td>31731688.0</td>\n",
       "      <td>17.7</td>\n",
       "      <td>17.7</td>\n",
       "      <td>0.470</td>\n",
       "      <td>9.9</td>\n",
       "    </tr>\n",
       "    <tr>\n",
       "      <th>3</th>\n",
       "      <td>3</td>\n",
       "      <td>59.5</td>\n",
       "      <td>272.0</td>\n",
       "      <td>69</td>\n",
       "      <td>0.01</td>\n",
       "      <td>78.184215</td>\n",
       "      <td>67.0</td>\n",
       "      <td>2787</td>\n",
       "      <td>17.6</td>\n",
       "      <td>93</td>\n",
       "      <td>67.0</td>\n",
       "      <td>8.52</td>\n",
       "      <td>67.0</td>\n",
       "      <td>0.1</td>\n",
       "      <td>669.959000</td>\n",
       "      <td>3696958.0</td>\n",
       "      <td>17.9</td>\n",
       "      <td>18.0</td>\n",
       "      <td>0.463</td>\n",
       "      <td>9.8</td>\n",
       "    </tr>\n",
       "    <tr>\n",
       "      <th>4</th>\n",
       "      <td>4</td>\n",
       "      <td>59.2</td>\n",
       "      <td>275.0</td>\n",
       "      <td>71</td>\n",
       "      <td>0.01</td>\n",
       "      <td>7.097109</td>\n",
       "      <td>68.0</td>\n",
       "      <td>3013</td>\n",
       "      <td>17.2</td>\n",
       "      <td>97</td>\n",
       "      <td>68.0</td>\n",
       "      <td>7.87</td>\n",
       "      <td>68.0</td>\n",
       "      <td>0.1</td>\n",
       "      <td>63.537231</td>\n",
       "      <td>2978599.0</td>\n",
       "      <td>18.2</td>\n",
       "      <td>18.2</td>\n",
       "      <td>0.454</td>\n",
       "      <td>9.5</td>\n",
       "    </tr>\n",
       "  </tbody>\n",
       "</table>\n",
       "</div>"
      ],
      "text/plain": [
       "   Unnamed: 0  Life expectancy  Adult Mortality  infant deaths  Alcohol  \\\n",
       "0           0             65.0            263.0             62     0.01   \n",
       "1           1             59.9            271.0             64     0.01   \n",
       "2           2             59.9            268.0             66     0.01   \n",
       "3           3             59.5            272.0             69     0.01   \n",
       "4           4             59.2            275.0             71     0.01   \n",
       "\n",
       "   percentage expenditure  Hepatitis B  Measles   BMI  under-five deaths  \\\n",
       "0               71.279624         65.0     1154  19.1                 83   \n",
       "1               73.523582         62.0      492  18.6                 86   \n",
       "2               73.219243         64.0      430  18.1                 89   \n",
       "3               78.184215         67.0     2787  17.6                 93   \n",
       "4                7.097109         68.0     3013  17.2                 97   \n",
       "\n",
       "   Polio  Total expenditure  Diphtheria  HIV/AIDS         GDP  Population  \\\n",
       "0    6.0               8.16        65.0       0.1  584.259210  33736494.0   \n",
       "1   58.0               8.18        62.0       0.1  612.696514    327582.0   \n",
       "2   62.0               8.13        64.0       0.1  631.744976  31731688.0   \n",
       "3   67.0               8.52        67.0       0.1  669.959000   3696958.0   \n",
       "4   68.0               7.87        68.0       0.1   63.537231   2978599.0   \n",
       "\n",
       "   thinness  10-19 years  thinness 5-9 years  Income composition of resources  \\\n",
       "0                   17.2                17.3                            0.479   \n",
       "1                   17.5                17.5                            0.476   \n",
       "2                   17.7                17.7                            0.470   \n",
       "3                   17.9                18.0                            0.463   \n",
       "4                   18.2                18.2                            0.454   \n",
       "\n",
       "   Schooling  \n",
       "0       10.1  \n",
       "1       10.0  \n",
       "2        9.9  \n",
       "3        9.8  \n",
       "4        9.5  "
      ]
     },
     "execution_count": 4,
     "metadata": {},
     "output_type": "execute_result"
    }
   ],
   "source": [
    "# Mostrar los datos\n",
    "df_datos.head()"
   ]
  },
  {
   "cell_type": "code",
   "execution_count": 5,
   "metadata": {},
   "outputs": [
    {
     "data": {
      "text/plain": [
       "Unnamed: 0                           int64\n",
       "Life expectancy                    float64\n",
       "Adult Mortality                    float64\n",
       "infant deaths                        int64\n",
       "Alcohol                            float64\n",
       "percentage expenditure             float64\n",
       "Hepatitis B                        float64\n",
       "Measles                              int64\n",
       "BMI                                float64\n",
       "under-five deaths                    int64\n",
       "Polio                              float64\n",
       "Total expenditure                  float64\n",
       "Diphtheria                         float64\n",
       "HIV/AIDS                           float64\n",
       "GDP                                float64\n",
       "Population                         float64\n",
       "thinness  10-19 years              float64\n",
       "thinness 5-9 years                 float64\n",
       "Income composition of resources    float64\n",
       "Schooling                          float64\n",
       "dtype: object"
      ]
     },
     "execution_count": 5,
     "metadata": {},
     "output_type": "execute_result"
    }
   ],
   "source": [
    "# Podemos ver los tipos de todas la variables.\n",
    "df_datos.dtypes"
   ]
  },
  {
   "cell_type": "code",
   "execution_count": 6,
   "metadata": {},
   "outputs": [
    {
     "data": {
      "text/html": [
       "<div>\n",
       "<style scoped>\n",
       "    .dataframe tbody tr th:only-of-type {\n",
       "        vertical-align: middle;\n",
       "    }\n",
       "\n",
       "    .dataframe tbody tr th {\n",
       "        vertical-align: top;\n",
       "    }\n",
       "\n",
       "    .dataframe thead th {\n",
       "        text-align: right;\n",
       "    }\n",
       "</style>\n",
       "<table border=\"1\" class=\"dataframe\">\n",
       "  <thead>\n",
       "    <tr style=\"text-align: right;\">\n",
       "      <th></th>\n",
       "      <th>Unnamed: 0</th>\n",
       "      <th>Life expectancy</th>\n",
       "      <th>Adult Mortality</th>\n",
       "      <th>infant deaths</th>\n",
       "      <th>Alcohol</th>\n",
       "      <th>percentage expenditure</th>\n",
       "      <th>Hepatitis B</th>\n",
       "      <th>Measles</th>\n",
       "      <th>BMI</th>\n",
       "      <th>under-five deaths</th>\n",
       "      <th>Polio</th>\n",
       "      <th>Total expenditure</th>\n",
       "      <th>Diphtheria</th>\n",
       "      <th>HIV/AIDS</th>\n",
       "      <th>GDP</th>\n",
       "      <th>Population</th>\n",
       "      <th>thinness  10-19 years</th>\n",
       "      <th>thinness 5-9 years</th>\n",
       "      <th>Income composition of resources</th>\n",
       "      <th>Schooling</th>\n",
       "    </tr>\n",
       "  </thead>\n",
       "  <tbody>\n",
       "    <tr>\n",
       "      <th>count</th>\n",
       "      <td>2644.00000</td>\n",
       "      <td>2644.000000</td>\n",
       "      <td>2644.000000</td>\n",
       "      <td>2644.00000</td>\n",
       "      <td>2644.000000</td>\n",
       "      <td>2644.000000</td>\n",
       "      <td>2644.000000</td>\n",
       "      <td>2644.000000</td>\n",
       "      <td>2644.000000</td>\n",
       "      <td>2644.000000</td>\n",
       "      <td>2644.000000</td>\n",
       "      <td>2644.000000</td>\n",
       "      <td>2644.000000</td>\n",
       "      <td>2644.000000</td>\n",
       "      <td>2644.000000</td>\n",
       "      <td>2.644000e+03</td>\n",
       "      <td>2644.000000</td>\n",
       "      <td>2644.000000</td>\n",
       "      <td>2644.000000</td>\n",
       "      <td>2644.000000</td>\n",
       "    </tr>\n",
       "    <tr>\n",
       "      <th>mean</th>\n",
       "      <td>1321.50000</td>\n",
       "      <td>69.068797</td>\n",
       "      <td>162.465204</td>\n",
       "      <td>31.14410</td>\n",
       "      <td>4.328684</td>\n",
       "      <td>792.465552</td>\n",
       "      <td>65.532905</td>\n",
       "      <td>2432.922844</td>\n",
       "      <td>37.662746</td>\n",
       "      <td>43.160363</td>\n",
       "      <td>81.967095</td>\n",
       "      <td>5.431078</td>\n",
       "      <td>81.926626</td>\n",
       "      <td>1.617095</td>\n",
       "      <td>6726.080237</td>\n",
       "      <td>1.052152e+07</td>\n",
       "      <td>4.743911</td>\n",
       "      <td>4.778215</td>\n",
       "      <td>0.602879</td>\n",
       "      <td>11.482678</td>\n",
       "    </tr>\n",
       "    <tr>\n",
       "      <th>std</th>\n",
       "      <td>763.40138</td>\n",
       "      <td>10.351757</td>\n",
       "      <td>121.186953</td>\n",
       "      <td>123.93232</td>\n",
       "      <td>4.146851</td>\n",
       "      <td>2077.768681</td>\n",
       "      <td>39.221347</td>\n",
       "      <td>11868.652439</td>\n",
       "      <td>20.339750</td>\n",
       "      <td>168.485929</td>\n",
       "      <td>24.521529</td>\n",
       "      <td>2.821982</td>\n",
       "      <td>24.502772</td>\n",
       "      <td>4.822150</td>\n",
       "      <td>13873.881462</td>\n",
       "      <td>5.680977e+07</td>\n",
       "      <td>4.467839</td>\n",
       "      <td>4.553418</td>\n",
       "      <td>0.244040</td>\n",
       "      <td>4.170684</td>\n",
       "    </tr>\n",
       "    <tr>\n",
       "      <th>min</th>\n",
       "      <td>0.00000</td>\n",
       "      <td>0.000000</td>\n",
       "      <td>0.000000</td>\n",
       "      <td>0.00000</td>\n",
       "      <td>0.000000</td>\n",
       "      <td>0.000000</td>\n",
       "      <td>0.000000</td>\n",
       "      <td>0.000000</td>\n",
       "      <td>0.000000</td>\n",
       "      <td>0.000000</td>\n",
       "      <td>0.000000</td>\n",
       "      <td>0.000000</td>\n",
       "      <td>0.000000</td>\n",
       "      <td>0.100000</td>\n",
       "      <td>0.000000</td>\n",
       "      <td>0.000000e+00</td>\n",
       "      <td>0.000000</td>\n",
       "      <td>0.000000</td>\n",
       "      <td>0.000000</td>\n",
       "      <td>0.000000</td>\n",
       "    </tr>\n",
       "    <tr>\n",
       "      <th>25%</th>\n",
       "      <td>660.75000</td>\n",
       "      <td>62.975000</td>\n",
       "      <td>73.000000</td>\n",
       "      <td>0.00000</td>\n",
       "      <td>0.407500</td>\n",
       "      <td>7.044565</td>\n",
       "      <td>14.750000</td>\n",
       "      <td>0.000000</td>\n",
       "      <td>18.900000</td>\n",
       "      <td>0.000000</td>\n",
       "      <td>78.000000</td>\n",
       "      <td>3.677500</td>\n",
       "      <td>78.000000</td>\n",
       "      <td>0.100000</td>\n",
       "      <td>238.626882</td>\n",
       "      <td>1.285900e+04</td>\n",
       "      <td>1.500000</td>\n",
       "      <td>1.500000</td>\n",
       "      <td>0.473000</td>\n",
       "      <td>9.500000</td>\n",
       "    </tr>\n",
       "    <tr>\n",
       "      <th>50%</th>\n",
       "      <td>1321.50000</td>\n",
       "      <td>72.100000</td>\n",
       "      <td>143.000000</td>\n",
       "      <td>2.00000</td>\n",
       "      <td>3.225000</td>\n",
       "      <td>70.648787</td>\n",
       "      <td>87.000000</td>\n",
       "      <td>14.000000</td>\n",
       "      <td>43.000000</td>\n",
       "      <td>3.000000</td>\n",
       "      <td>93.000000</td>\n",
       "      <td>5.550000</td>\n",
       "      <td>93.000000</td>\n",
       "      <td>0.100000</td>\n",
       "      <td>1254.652810</td>\n",
       "      <td>6.227965e+05</td>\n",
       "      <td>3.200000</td>\n",
       "      <td>3.200000</td>\n",
       "      <td>0.668000</td>\n",
       "      <td>12.300000</td>\n",
       "    </tr>\n",
       "    <tr>\n",
       "      <th>75%</th>\n",
       "      <td>1982.25000</td>\n",
       "      <td>75.800000</td>\n",
       "      <td>226.250000</td>\n",
       "      <td>18.00000</td>\n",
       "      <td>7.495000</td>\n",
       "      <td>485.959559</td>\n",
       "      <td>96.000000</td>\n",
       "      <td>329.750000</td>\n",
       "      <td>55.900000</td>\n",
       "      <td>23.000000</td>\n",
       "      <td>97.000000</td>\n",
       "      <td>7.372500</td>\n",
       "      <td>97.000000</td>\n",
       "      <td>0.800000</td>\n",
       "      <td>5277.746332</td>\n",
       "      <td>5.194999e+06</td>\n",
       "      <td>7.200000</td>\n",
       "      <td>7.300000</td>\n",
       "      <td>0.781000</td>\n",
       "      <td>14.200000</td>\n",
       "    </tr>\n",
       "    <tr>\n",
       "      <th>max</th>\n",
       "      <td>2643.00000</td>\n",
       "      <td>89.000000</td>\n",
       "      <td>699.000000</td>\n",
       "      <td>1800.00000</td>\n",
       "      <td>17.870000</td>\n",
       "      <td>19479.911610</td>\n",
       "      <td>99.000000</td>\n",
       "      <td>212183.000000</td>\n",
       "      <td>87.300000</td>\n",
       "      <td>2500.000000</td>\n",
       "      <td>99.000000</td>\n",
       "      <td>17.240000</td>\n",
       "      <td>99.000000</td>\n",
       "      <td>50.600000</td>\n",
       "      <td>119172.741800</td>\n",
       "      <td>1.293859e+09</td>\n",
       "      <td>27.700000</td>\n",
       "      <td>28.600000</td>\n",
       "      <td>0.948000</td>\n",
       "      <td>20.700000</td>\n",
       "    </tr>\n",
       "  </tbody>\n",
       "</table>\n",
       "</div>"
      ],
      "text/plain": [
       "       Unnamed: 0  Life expectancy  Adult Mortality  infant deaths  \\\n",
       "count  2644.00000      2644.000000      2644.000000     2644.00000   \n",
       "mean   1321.50000        69.068797       162.465204       31.14410   \n",
       "std     763.40138        10.351757       121.186953      123.93232   \n",
       "min       0.00000         0.000000         0.000000        0.00000   \n",
       "25%     660.75000        62.975000        73.000000        0.00000   \n",
       "50%    1321.50000        72.100000       143.000000        2.00000   \n",
       "75%    1982.25000        75.800000       226.250000       18.00000   \n",
       "max    2643.00000        89.000000       699.000000     1800.00000   \n",
       "\n",
       "           Alcohol  percentage expenditure  Hepatitis B        Measles  \\\n",
       "count  2644.000000             2644.000000  2644.000000    2644.000000   \n",
       "mean      4.328684              792.465552    65.532905    2432.922844   \n",
       "std       4.146851             2077.768681    39.221347   11868.652439   \n",
       "min       0.000000                0.000000     0.000000       0.000000   \n",
       "25%       0.407500                7.044565    14.750000       0.000000   \n",
       "50%       3.225000               70.648787    87.000000      14.000000   \n",
       "75%       7.495000              485.959559    96.000000     329.750000   \n",
       "max      17.870000            19479.911610    99.000000  212183.000000   \n",
       "\n",
       "               BMI  under-five deaths        Polio  Total expenditure  \\\n",
       "count  2644.000000        2644.000000  2644.000000        2644.000000   \n",
       "mean     37.662746          43.160363    81.967095           5.431078   \n",
       "std      20.339750         168.485929    24.521529           2.821982   \n",
       "min       0.000000           0.000000     0.000000           0.000000   \n",
       "25%      18.900000           0.000000    78.000000           3.677500   \n",
       "50%      43.000000           3.000000    93.000000           5.550000   \n",
       "75%      55.900000          23.000000    97.000000           7.372500   \n",
       "max      87.300000        2500.000000    99.000000          17.240000   \n",
       "\n",
       "        Diphtheria     HIV/AIDS            GDP    Population  \\\n",
       "count  2644.000000  2644.000000    2644.000000  2.644000e+03   \n",
       "mean     81.926626     1.617095    6726.080237  1.052152e+07   \n",
       "std      24.502772     4.822150   13873.881462  5.680977e+07   \n",
       "min       0.000000     0.100000       0.000000  0.000000e+00   \n",
       "25%      78.000000     0.100000     238.626882  1.285900e+04   \n",
       "50%      93.000000     0.100000    1254.652810  6.227965e+05   \n",
       "75%      97.000000     0.800000    5277.746332  5.194999e+06   \n",
       "max      99.000000    50.600000  119172.741800  1.293859e+09   \n",
       "\n",
       "       thinness  10-19 years  thinness 5-9 years  \\\n",
       "count            2644.000000         2644.000000   \n",
       "mean                4.743911            4.778215   \n",
       "std                 4.467839            4.553418   \n",
       "min                 0.000000            0.000000   \n",
       "25%                 1.500000            1.500000   \n",
       "50%                 3.200000            3.200000   \n",
       "75%                 7.200000            7.300000   \n",
       "max                27.700000           28.600000   \n",
       "\n",
       "       Income composition of resources    Schooling  \n",
       "count                      2644.000000  2644.000000  \n",
       "mean                          0.602879    11.482678  \n",
       "std                           0.244040     4.170684  \n",
       "min                           0.000000     0.000000  \n",
       "25%                           0.473000     9.500000  \n",
       "50%                           0.668000    12.300000  \n",
       "75%                           0.781000    14.200000  \n",
       "max                           0.948000    20.700000  "
      ]
     },
     "execution_count": 6,
     "metadata": {},
     "output_type": "execute_result"
    }
   ],
   "source": [
    "# Y hacer una decsripción de los datos\n",
    "df_datos.describe()"
   ]
  },
  {
   "cell_type": "markdown",
   "metadata": {},
   "source": [
    "# 2. Limpieza y preparación de los datos\n",
    "\n",
    "Primero vamos a ejecutar los pasos de limpieza de los datos, relacionados el tratamiento de ausencias y registros duplicados."
   ]
  },
  {
   "cell_type": "code",
   "execution_count": 7,
   "metadata": {},
   "outputs": [],
   "source": [
    "# Es recomendable que todos los pasos de limpieza y preparación se realicen sobre otro archivo.\n",
    "df_datos_t = df_datos"
   ]
  },
  {
   "cell_type": "code",
   "execution_count": 8,
   "metadata": {},
   "outputs": [
    {
     "data": {
      "text/plain": [
       "Unnamed: 0                         0\n",
       "Life expectancy                    0\n",
       "Adult Mortality                    0\n",
       "infant deaths                      0\n",
       "Alcohol                            0\n",
       "percentage expenditure             0\n",
       "Hepatitis B                        0\n",
       "Measles                            0\n",
       "BMI                                0\n",
       "under-five deaths                  0\n",
       "Polio                              0\n",
       "Total expenditure                  0\n",
       "Diphtheria                         0\n",
       "HIV/AIDS                           0\n",
       "GDP                                0\n",
       "Population                         0\n",
       "thinness  10-19 years              0\n",
       "thinness 5-9 years                 0\n",
       "Income composition of resources    0\n",
       "Schooling                          0\n",
       "dtype: int64"
      ]
     },
     "execution_count": 8,
     "metadata": {},
     "output_type": "execute_result"
    }
   ],
   "source": [
    "# Se observa que hay ausencias, sin embargo no son una cantidad significativa:\n",
    "df_datos_t.isnull().sum()"
   ]
  },
  {
   "cell_type": "code",
   "execution_count": 9,
   "metadata": {},
   "outputs": [],
   "source": [
    "# Eliminación registros con ausencias\n",
    "df_datos_t = df_datos_t.dropna()\n",
    "# Eliminación de registros duplicados.\n",
    "df_datos_t = df_datos_t.drop_duplicates()"
   ]
  },
  {
   "cell_type": "code",
   "execution_count": 10,
   "metadata": {},
   "outputs": [
    {
     "data": {
      "text/plain": [
       "Unnamed: 0                           1\n",
       "Life expectancy                      9\n",
       "Adult Mortality                      9\n",
       "infant deaths                      803\n",
       "Alcohol                            177\n",
       "percentage expenditure             498\n",
       "Hepatitis B                        519\n",
       "Measles                            899\n",
       "BMI                                 34\n",
       "under-five deaths                  747\n",
       "Polio                               19\n",
       "Total expenditure                  208\n",
       "Diphtheria                          19\n",
       "HIV/AIDS                             0\n",
       "GDP                                352\n",
       "Population                         540\n",
       "thinness  10-19 years               34\n",
       "thinness 5-9 years                  34\n",
       "Income composition of resources    230\n",
       "Schooling                          141\n",
       "dtype: int64"
      ]
     },
     "execution_count": 10,
     "metadata": {},
     "output_type": "execute_result"
    }
   ],
   "source": [
    "(df_datos_t==0).sum()"
   ]
  },
  {
   "cell_type": "code",
   "execution_count": 11,
   "metadata": {},
   "outputs": [
    {
     "ename": "AttributeError",
     "evalue": "'DataFrame' object has no attribute 'HoursPerWeek'",
     "output_type": "error",
     "traceback": [
      "\u001b[1;31m---------------------------------------------------------------------------\u001b[0m",
      "\u001b[1;31mAttributeError\u001b[0m                            Traceback (most recent call last)",
      "\u001b[1;32m<ipython-input-11-6b8be393ca56>\u001b[0m in \u001b[0;36m<module>\u001b[1;34m\u001b[0m\n\u001b[0;32m      1\u001b[0m \u001b[1;31m#Si juega 16 horas al dia puede lograr maximo 112 horas a la semana\u001b[0m\u001b[1;33m\u001b[0m\u001b[1;33m\u001b[0m\u001b[1;33m\u001b[0m\u001b[0m\n\u001b[1;32m----> 2\u001b[1;33m \u001b[0mdf_datos_t\u001b[0m \u001b[1;33m=\u001b[0m \u001b[0mdf_datos_t\u001b[0m\u001b[1;33m[\u001b[0m\u001b[0mdf_datos_t\u001b[0m\u001b[1;33m.\u001b[0m\u001b[0mHoursPerWeek\u001b[0m\u001b[1;33m<\u001b[0m\u001b[1;36m112\u001b[0m\u001b[1;33m]\u001b[0m\u001b[1;33m\u001b[0m\u001b[1;33m\u001b[0m\u001b[0m\n\u001b[0m\u001b[0;32m      3\u001b[0m \u001b[1;31m# El juego tiene 10 años por lo que el maximo de horas posibles son 80640\u001b[0m\u001b[1;33m\u001b[0m\u001b[1;33m\u001b[0m\u001b[1;33m\u001b[0m\u001b[0m\n\u001b[0;32m      4\u001b[0m \u001b[0mdf_datos_t\u001b[0m \u001b[1;33m=\u001b[0m \u001b[0mdf_datos_t\u001b[0m\u001b[1;33m[\u001b[0m\u001b[0mdf_datos_t\u001b[0m\u001b[1;33m.\u001b[0m\u001b[0mTotalHours\u001b[0m\u001b[1;33m<\u001b[0m\u001b[1;36m80640\u001b[0m\u001b[1;33m]\u001b[0m\u001b[1;33m\u001b[0m\u001b[1;33m\u001b[0m\u001b[0m\n\u001b[0;32m      5\u001b[0m \u001b[1;31m# Nos interesa la información de los jugadores, si la persona no juega no va a tener una liga asignada\u001b[0m\u001b[1;33m\u001b[0m\u001b[1;33m\u001b[0m\u001b[1;33m\u001b[0m\u001b[0m\n",
      "\u001b[1;32mD:\\Programas\\Anaconda\\lib\\site-packages\\pandas\\core\\generic.py\u001b[0m in \u001b[0;36m__getattr__\u001b[1;34m(self, name)\u001b[0m\n\u001b[0;32m   5463\u001b[0m             \u001b[1;32mif\u001b[0m \u001b[0mself\u001b[0m\u001b[1;33m.\u001b[0m\u001b[0m_info_axis\u001b[0m\u001b[1;33m.\u001b[0m\u001b[0m_can_hold_identifiers_and_holds_name\u001b[0m\u001b[1;33m(\u001b[0m\u001b[0mname\u001b[0m\u001b[1;33m)\u001b[0m\u001b[1;33m:\u001b[0m\u001b[1;33m\u001b[0m\u001b[1;33m\u001b[0m\u001b[0m\n\u001b[0;32m   5464\u001b[0m                 \u001b[1;32mreturn\u001b[0m \u001b[0mself\u001b[0m\u001b[1;33m[\u001b[0m\u001b[0mname\u001b[0m\u001b[1;33m]\u001b[0m\u001b[1;33m\u001b[0m\u001b[1;33m\u001b[0m\u001b[0m\n\u001b[1;32m-> 5465\u001b[1;33m             \u001b[1;32mreturn\u001b[0m \u001b[0mobject\u001b[0m\u001b[1;33m.\u001b[0m\u001b[0m__getattribute__\u001b[0m\u001b[1;33m(\u001b[0m\u001b[0mself\u001b[0m\u001b[1;33m,\u001b[0m \u001b[0mname\u001b[0m\u001b[1;33m)\u001b[0m\u001b[1;33m\u001b[0m\u001b[1;33m\u001b[0m\u001b[0m\n\u001b[0m\u001b[0;32m   5466\u001b[0m \u001b[1;33m\u001b[0m\u001b[0m\n\u001b[0;32m   5467\u001b[0m     \u001b[1;32mdef\u001b[0m \u001b[0m__setattr__\u001b[0m\u001b[1;33m(\u001b[0m\u001b[0mself\u001b[0m\u001b[1;33m,\u001b[0m \u001b[0mname\u001b[0m\u001b[1;33m:\u001b[0m \u001b[0mstr\u001b[0m\u001b[1;33m,\u001b[0m \u001b[0mvalue\u001b[0m\u001b[1;33m)\u001b[0m \u001b[1;33m->\u001b[0m \u001b[1;32mNone\u001b[0m\u001b[1;33m:\u001b[0m\u001b[1;33m\u001b[0m\u001b[1;33m\u001b[0m\u001b[0m\n",
      "\u001b[1;31mAttributeError\u001b[0m: 'DataFrame' object has no attribute 'HoursPerWeek'"
     ]
    }
   ],
   "source": [
    "#Si juega 16 horas al dia puede lograr maximo 112 horas a la semana\n",
    "df_datos_t = df_datos_t[df_datos_t.HoursPerWeek<112]\n",
    "# El juego tiene 10 años por lo que el maximo de horas posibles son 80640\n",
    "df_datos_t = df_datos_t[df_datos_t.TotalHours<80640]\n",
    "# Nos interesa la información de los jugadores, si la persona no juega no va a tener una liga asignada\n",
    "df_datos_t = df_datos_t[df_datos_t.HoursPerWeek>0]\n",
    "# De acuerdo al diccionario el maximo para la variable LeagueIndex es 10\n",
    "df_datos_t = df_datos_t[df_datos_t.LeagueIndex<11]"
   ]
  },
  {
   "cell_type": "code",
   "execution_count": null,
   "metadata": {},
   "outputs": [],
   "source": [
    "# Cantidad de datos y número de variables\n",
    "df_datos_t.shape"
   ]
  },
  {
   "cell_type": "markdown",
   "metadata": {},
   "source": [
    "# 3. Perfilamiento y entendimiento de los datos"
   ]
  },
  {
   "cell_type": "markdown",
   "metadata": {},
   "source": [
    "## 3.1 Búsqueda de relaciones entre variables (diagramas de dispersión)"
   ]
  },
  {
   "cell_type": "code",
   "execution_count": null,
   "metadata": {},
   "outputs": [],
   "source": [
    "sns.pairplot(df_datos_t, height=3, y_vars = 'LeagueIndex', x_vars = df_datos_t.columns[0:5], kind='scatter')\n",
    "sns.pairplot(df_datos_t, height=3, y_vars = 'LeagueIndex', x_vars = df_datos_t.columns[5:10], kind='scatter')\n",
    "sns.pairplot(df_datos_t, height=3, y_vars = 'LeagueIndex', x_vars = df_datos_t.columns[10:15], kind='scatter')\n",
    "sns.pairplot(df_datos_t, height=3, y_vars = 'LeagueIndex', x_vars = df_datos_t.columns[15:], kind='scatter')"
   ]
  },
  {
   "cell_type": "markdown",
   "metadata": {},
   "source": [
    "##  3.2 Búsqueda de relaciones entre variables (Matriz de correlaciones)"
   ]
  },
  {
   "cell_type": "code",
   "execution_count": null,
   "metadata": {},
   "outputs": [],
   "source": [
    "f = plt.figure(figsize=(10, 10))\n",
    "plt.matshow(df_datos_t.corr(), fignum=f.number, cmap = 'seismic')\n",
    "plt.xticks(range(df_datos_t.select_dtypes(['number']).shape[1]), df_datos_t.select_dtypes(['number']).columns, fontsize=14, rotation=45)\n",
    "plt.yticks(range(df_datos_t.select_dtypes(['number']).shape[1]), df_datos_t.select_dtypes(['number']).columns, fontsize=14)\n",
    "cb = plt.colorbar()\n",
    "_ = cb.ax.tick_params(labelsize=14)"
   ]
  },
  {
   "cell_type": "markdown",
   "metadata": {},
   "source": [
    "# Selección de variables del modelo\n",
    "Para seleccionar las variables del modelo se prueba el desempeño individual de cada una de las variables , midiendo su error cuadratico medio (MSE) y su coeficiente de determinación ajustado (R2)."
   ]
  },
  {
   "cell_type": "code",
   "execution_count": null,
   "metadata": {},
   "outputs": [],
   "source": [
    "# Se selecciona la variable objetivo, en este caso \"Outcome\".\n",
    "Y = df_datos_t['LeagueIndex']\n",
    "# Del conjunto de datos se elimina la variable \"Outcome\"\n",
    "X = df_datos_t.drop(['LeagueIndex'], axis=1)"
   ]
  },
  {
   "cell_type": "code",
   "execution_count": null,
   "metadata": {},
   "outputs": [],
   "source": [
    "# Dividimos los datos en conjunto de prueba y conjunto de entrenamiento\n",
    "X_train, X_test, Y_train, Y_test = train_test_split(X, Y, test_size=0.2, random_state=0)\n",
    "\n",
    "print('El conjunto de entrenamiento tiene ' + str(len(X_train.index)) + ' muestras' )\n",
    "print('El conjunto de prueba tiene ' + str(len(X_test.index)) + ' muestras' )"
   ]
  },
  {
   "cell_type": "markdown",
   "metadata": {},
   "source": [
    "### Grafica MSE y R2\n",
    "Resultado del MSE y R2 realizando un entrenamiento y prediccion para cada variable individual "
   ]
  },
  {
   "cell_type": "code",
   "execution_count": null,
   "metadata": {},
   "outputs": [],
   "source": [
    "mse_list=[]\n",
    "score=[]\n",
    "variables = ['Age', 'HoursPerWeek', 'TotalHours', 'APM',\n",
    "       'SelectByHotkeys', 'AssignToHotkeys', 'UniqueHotkeys', 'MinimapAttacks',\n",
    "       'MinimapRightClicks', 'NumberOfPACs', 'GapBetweenPACs', 'ActionLatency',\n",
    "       'ActionsInPAC', 'TotalMapExplored', 'WorkersMade', 'UniqueUnitsMade',\n",
    "       'ComplexUnitsMade', 'ComplexAbilitiesUsed']\n",
    "for i in variables:\n",
    "  X_temp = X_train[[i]]\n",
    "  X_temp_test = X_test[[i]]\n",
    "  \n",
    "  model = LinearRegression()\n",
    "  model.fit(X_temp, Y_train)\n",
    "\n",
    "  y_pred = model.predict(X_temp_test)\n",
    "  score.append(model.score(X_temp_test, Y_test))\n",
    "  mse_list.append(mse(Y_test, y_pred))\n",
    "\n",
    "\n",
    "fig = plt.figure(figsize=(15,20))\n",
    "fig.subplots_adjust(top=0.8)\n",
    "\n",
    "ax1 = fig.add_subplot(211)\n",
    "ax1.set_ylabel('MSE', fontsize=14)\n",
    "ax1.set_xlabel('Variable', fontsize=14)\n",
    "ax1.set_title('MSE', fontsize=18)\n",
    "ax1.bar(variables,mse_list, align='center')\n",
    "plt.xticks(rotation=90)\n",
    "\n",
    "ax2 = fig.add_subplot(212)\n",
    "ax2.set_ylabel('R2', fontsize=14)\n",
    "ax2.set_xlabel('Variable', fontsize=14)\n",
    "ax2.set_title('R2', fontsize=18)\n",
    "ax2.bar(variables,score, align='center')\n",
    "plt.xticks(rotation=90)"
   ]
  },
  {
   "cell_type": "markdown",
   "metadata": {},
   "source": [
    "### Linealidad\n",
    "Se plotea el modelo lineal que se obtiene al usar solo una variable del conjunto de datos"
   ]
  },
  {
   "cell_type": "code",
   "execution_count": null,
   "metadata": {},
   "outputs": [],
   "source": [
    "i = 0\n",
    "for var in variables:\n",
    "    i += 1\n",
    "    X_temp = X_train[[var]]\n",
    "    X_test_temp = X_test[[var]]\n",
    "\n",
    "    model = LinearRegression()\n",
    "    model.fit(X_temp, Y_train)\n",
    "\n",
    "    y_pred = model.predict(X_test_temp)\n",
    "    plt.rcParams['figure.figsize'] = [20, 20]\n",
    "    plt.subplot(4, 5, i)\n",
    "    plt.xlabel(var, fontsize=14)\n",
    "    plt.ylabel(\"LeagueIndex\", fontsize=14)\n",
    "    plt.plot(X_test_temp, y_pred, X_test_temp , Y_test, 'k.')\n",
    "\n",
    "    \n",
    "plt.rcParams['figure.figsize'] = [6.4, 4.8]"
   ]
  },
  {
   "cell_type": "markdown",
   "metadata": {},
   "source": [
    "# Modelos\n",
    "\n",
    "Para modelar el comportamiento de los datos y poder sacar predicciones se usa un modelo de regresión lineal. La regresión Lineal busca una aproximación con coeficientes $\\beta$ = [ $\\beta_1$, $\\dots$, $\\beta_n$] que minimizen el error cuadratico medio entre los datos observados y la predicción modelada por una aproximación lineal.Para modelar el comportamiento de los datos y poder sacar predicciones se usa un modelo de regresión lineal. La regresión Lineal busca una aproximación con coeficientes $\\beta$ = [ $\\beta_1$, $\\dots$, $\\beta_n$] que minimizen el error cuadratico medio entre los datos observados y la predicción modelada por una aproximación lineal."
   ]
  },
  {
   "cell_type": "code",
   "execution_count": null,
   "metadata": {},
   "outputs": [],
   "source": [
    "def transformacion(x):\n",
    "    return x**0.5"
   ]
  },
  {
   "cell_type": "code",
   "execution_count": null,
   "metadata": {},
   "outputs": [],
   "source": [
    "def create_pipe(selected_cols_p, transform=False):\n",
    "    pre = [('initial',ColumnTransformer([(\"selector\", 'passthrough',selected_cols_p)])),]\n",
    "\n",
    "    na_cleanup = [('na_cleanup', SimpleImputer(strategy=\"median\")),]\n",
    "\n",
    "    std = [('std_scaler', StandardScaler()),]\n",
    "\n",
    "    m = [('model', LinearRegression()),]\n",
    "    \n",
    "    transformer = [(\"transformer\",FunctionTransformer(transformacion)),]\n",
    "    \n",
    "    if transform:\n",
    "        pipeline = Pipeline(pre+na_cleanup+transformer+std+m)\n",
    "    else:\n",
    "        pipeline = Pipeline(pre+na_cleanup+std+m)\n",
    "    pipeline = pipeline.fit(X_train, Y_train)\n",
    "    return pipeline"
   ]
  },
  {
   "cell_type": "markdown",
   "metadata": {},
   "source": [
    "### Modelo 1.1\n",
    "Los parametros se seleccionan de acuerdo a la seccion anterior, para el primer modelo se toman las 11 variables que tienen menor error cuadratico medio"
   ]
  },
  {
   "cell_type": "code",
   "execution_count": null,
   "metadata": {},
   "outputs": [],
   "source": [
    "selected_cols=[]\n",
    "\n",
    "for i in range(0, 6):\n",
    "  minimo=10000\n",
    "  act=\"\"\n",
    "  for j in range (0,len(mse_list)):\n",
    "    if mse_list[j]<minimo and variables[j] not in selected_cols:\n",
    "      minimo=mse_list[j]\n",
    "      act=variables[j]\n",
    "  selected_cols.append(act)\n",
    "print('Las variables seleccionadas son: ')\n",
    "for v in selected_cols:\n",
    "  print('', f'* {v.strip()}')"
   ]
  },
  {
   "cell_type": "code",
   "execution_count": null,
   "metadata": {},
   "outputs": [],
   "source": [
    "pipe = create_pipe(selected_cols)"
   ]
  },
  {
   "cell_type": "code",
   "execution_count": null,
   "metadata": {},
   "outputs": [],
   "source": [
    "print(\"R2: \",pipe.score(X_test, Y_test))\n",
    "print(\"ECM: \" , mse(Y_test, pipe.predict(X_test)))"
   ]
  },
  {
   "cell_type": "markdown",
   "metadata": {},
   "source": [
    "### Modelo 1.2\n",
    "Para el modelo 1.2 se tomaron las variables con mayor coeficiente de determinación ajustado (R2)"
   ]
  },
  {
   "cell_type": "code",
   "execution_count": null,
   "metadata": {},
   "outputs": [],
   "source": [
    "selected_cols=[]\n",
    "\n",
    "for i in range(0, 8):\n",
    "  maxi=0\n",
    "  act=\"\"\n",
    "  for j in range (0,len(score)):\n",
    "    if score[j]>maxi and variables[j] not in selected_cols:\n",
    "      maxi=score[j]\n",
    "      act=variables[j]\n",
    "  selected_cols.append(act)\n",
    "\n",
    "print('Las variables seleccionadas son: ')\n",
    "for v in selected_cols:\n",
    "  print('', f'* {v.strip()}')"
   ]
  },
  {
   "cell_type": "code",
   "execution_count": null,
   "metadata": {},
   "outputs": [],
   "source": [
    "pipe = create_pipe(selected_cols)"
   ]
  },
  {
   "cell_type": "code",
   "execution_count": null,
   "metadata": {},
   "outputs": [],
   "source": [
    "print(\"R2: \",pipe.score(X_test, Y_test))\n",
    "print(\"ECM: \" , mse(Y_test, pipe.predict(X_test)))"
   ]
  },
  {
   "cell_type": "markdown",
   "metadata": {},
   "source": [
    "### Modelo 1.3\n",
    "Para el modelo 1.3 se realizan transformaciones sobre los datos de entrada"
   ]
  },
  {
   "cell_type": "code",
   "execution_count": null,
   "metadata": {},
   "outputs": [],
   "source": [
    "variables = ['Age', 'HoursPerWeek', 'TotalHours', 'APM',\n",
    "       'SelectByHotkeys', 'AssignToHotkeys', 'UniqueHotkeys', 'MinimapAttacks',\n",
    "       'MinimapRightClicks', 'NumberOfPACs', 'GapBetweenPACs', 'ActionLatency',\n",
    "       'ActionsInPAC', 'TotalMapExplored', 'WorkersMade', 'UniqueUnitsMade',\n",
    "       'ComplexUnitsMade', 'ComplexAbilitiesUsed']\n",
    "i = 0\n",
    "for var in variables:\n",
    "    i += 1\n",
    "    X_temp = X_train[[var]]**0.5\n",
    "    X_test_temp = X_test[[var]]**0.5\n",
    "  \n",
    "    \n",
    "    model = LinearRegression()\n",
    "    model.fit(X_temp, Y_train)\n",
    "\n",
    "    y_pred = model.predict(X_test_temp)\n",
    "    \n",
    "   \n",
    "    \n",
    "    plt.rcParams['figure.figsize'] = [20, 40]\n",
    "    plt.subplot(10, 4, i)\n",
    "    plt.xlabel(var, fontsize=14)\n",
    "    plt.ylabel(\"LeagueIndex\", fontsize=14)\n",
    "    plt.plot(X_test_temp, y_pred, X_test_temp , Y_test, 'k.')\n",
    "    \n",
    "    \n",
    "    \n",
    "    \n",
    "    i += 1\n",
    "    \n",
    "    X_temp =X_train[[var]]\n",
    "    X_test_temp =X_test[[var]]\n",
    "    model = LinearRegression()\n",
    "    model.fit(X_temp, Y_train)\n",
    "\n",
    "    y_pred = model.predict(X_test_temp)\n",
    "    plt.rcParams['figure.figsize'] = [20, 20]\n",
    "    plt.subplot(10, 4, i)\n",
    "    plt.xlabel(var, fontsize=14)\n",
    "    plt.ylabel(\"LeagueIndex\", fontsize=14)\n",
    "    plt.plot(X_test_temp, y_pred, X_test_temp , Y_test, 'k.')\n",
    "    \n",
    "plt.rcParams['figure.figsize'] = [6.4, 4.8]"
   ]
  },
  {
   "cell_type": "code",
   "execution_count": null,
   "metadata": {},
   "outputs": [],
   "source": [
    "mse_list=[]\n",
    "score=[]\n",
    "variables = [\"ActionLatency\", \"APM\", \"NumberOfPACs\", \"GapBetweenPACs\", \"AssignToHotkeys\", \"SelectByHotkeys\", \"MinimapAttacks\"]\n",
    "variables=['TotalHours', 'APM',\n",
    "       'SelectByHotkeys', 'AssignToHotkeys', 'MinimapAttacks',\n",
    "       'MinimapRightClicks', 'NumberOfPACs', 'GapBetweenPACs', 'ActionLatency',\n",
    "       'ActionsInPAC', 'TotalMapExplored', 'WorkersMade']\n",
    "pipe = create_pipe(variables, transform=True)\n",
    "print(\"R2: \",pipe.score(X_test, Y_test))\n",
    "print(\"ECM: \" , mse(Y_test, pipe.predict(X_test)))\n",
    "\n"
   ]
  },
  {
   "cell_type": "markdown",
   "metadata": {},
   "source": [
    "# Exportar e Importar el Modelo"
   ]
  },
  {
   "cell_type": "code",
   "execution_count": null,
   "metadata": {},
   "outputs": [],
   "source": [
    "df_recent=pd.read_csv('recent.csv', sep=',', encoding = 'utf-8', header=0, na_values=[\"NA-VALUE\"])"
   ]
  },
  {
   "cell_type": "code",
   "execution_count": null,
   "metadata": {},
   "outputs": [],
   "source": [
    "df_recent.shape"
   ]
  },
  {
   "cell_type": "code",
   "execution_count": null,
   "metadata": {},
   "outputs": [],
   "source": [
    " # Usamos la lbreria joblib\n",
    "filename = 'pipeline.joblib'\n",
    "# Se guarda\n",
    "dump(pipeline, filename)   # Se lee\n",
    "p2 = load(filename)\n",
    "\n",
    "p2  # Clasificamos los datos recientes\n",
    "df_recent['LeagueIndex'] = p2.predict(df_recent)  \n",
    "sns.histplot(df_recent['LeagueIndex'])"
   ]
  },
  {
   "cell_type": "markdown",
   "metadata": {},
   "source": []
  },
  {
   "cell_type": "markdown",
   "metadata": {},
   "source": [
    "# Coeficientes"
   ]
  },
  {
   "cell_type": "code",
   "execution_count": null,
   "metadata": {},
   "outputs": [],
   "source": [
    "pipeline['model'].coef_  # En DataFrame\n",
    "pd.DataFrame({'columns':selected_cols, 'coef':pipeline['model'].coef_})"
   ]
  }
 ],
 "metadata": {
  "kernelspec": {
   "display_name": "Python 3",
   "language": "python",
   "name": "python3"
  },
  "language_info": {
   "codemirror_mode": {
    "name": "ipython",
    "version": 3
   },
   "file_extension": ".py",
   "mimetype": "text/x-python",
   "name": "python",
   "nbconvert_exporter": "python",
   "pygments_lexer": "ipython3",
   "version": "3.8.8"
  }
 },
 "nbformat": 4,
 "nbformat_minor": 4
}
