{
 "cells": [
  {
   "cell_type": "markdown",
   "metadata": {},
   "source": [
    "# 0. Importación de librerías \n",
    "\n",
    "En las siguientes líneas de código se importan las librerías y herramientas necesarias para desarrollar el caso de uso."
   ]
  },
  {
   "cell_type": "code",
   "execution_count": 1,
   "metadata": {},
   "outputs": [],
   "source": [
    "seed = 161\n",
    "import pandas as pd\n",
    "import numpy as np\n",
    "import matplotlib.pyplot as plt\n",
    "import seaborn as sns\n",
    "\n",
    "# Composicion de pipelines\n",
    "from sklearn.compose import ColumnTransformer\n",
    "from sklearn.pipeline import Pipeline\n",
    "from sklearn.preprocessing import StandardScaler, MinMaxScaler, FunctionTransformer\n",
    "from sklearn.impute import SimpleImputer\n",
    "\n",
    "# Regresion lineal\n",
    "from sklearn.linear_model import LinearRegression\n",
    "from sklearn.model_selection import train_test_split\n",
    "from sklearn.metrics import mean_squared_error as mse\n",
    "\n",
    "# Importar/ Exportar modelos\n",
    "from joblib import dump, load"
   ]
  },
  {
   "cell_type": "markdown",
   "metadata": {},
   "source": [
    "# 1. Carga de los datos\n",
    "A través de la librería **pandas** podemos realizar la carga de datos desde diferentes fuentes de información, en este caso se realizará la carga de un archivo plano csv, el separador del archivo es ; y se remplazaron los valores \"-\" por valores nulos."
   ]
  },
  {
   "cell_type": "code",
   "execution_count": 2,
   "metadata": {},
   "outputs": [],
   "source": [
    "# Se cargan los datos. \n",
    "df_datos=pd.read_csv('202210_Laboratorio3_data_datos_recientes.csv', sep=',', encoding = 'utf-8', header=0, na_values=[\"NA-VALUE\"])"
   ]
  },
  {
   "cell_type": "code",
   "execution_count": 3,
   "metadata": {},
   "outputs": [
    {
     "data": {
      "text/plain": [
       "(294, 19)"
      ]
     },
     "execution_count": 3,
     "metadata": {},
     "output_type": "execute_result"
    }
   ],
   "source": [
    "# Cantidad de datos y número de variables\n",
    "df_datos.shape"
   ]
  },
  {
   "cell_type": "code",
   "execution_count": 4,
   "metadata": {},
   "outputs": [
    {
     "data": {
      "text/html": [
       "<div>\n",
       "<style scoped>\n",
       "    .dataframe tbody tr th:only-of-type {\n",
       "        vertical-align: middle;\n",
       "    }\n",
       "\n",
       "    .dataframe tbody tr th {\n",
       "        vertical-align: top;\n",
       "    }\n",
       "\n",
       "    .dataframe thead th {\n",
       "        text-align: right;\n",
       "    }\n",
       "</style>\n",
       "<table border=\"1\" class=\"dataframe\">\n",
       "  <thead>\n",
       "    <tr style=\"text-align: right;\">\n",
       "      <th></th>\n",
       "      <th>Unnamed: 0</th>\n",
       "      <th>Adult Mortality</th>\n",
       "      <th>infant deaths</th>\n",
       "      <th>Alcohol</th>\n",
       "      <th>percentage expenditure</th>\n",
       "      <th>Hepatitis B</th>\n",
       "      <th>Measles</th>\n",
       "      <th>BMI</th>\n",
       "      <th>under-five deaths</th>\n",
       "      <th>Polio</th>\n",
       "      <th>Total expenditure</th>\n",
       "      <th>Diphtheria</th>\n",
       "      <th>HIV/AIDS</th>\n",
       "      <th>GDP</th>\n",
       "      <th>Population</th>\n",
       "      <th>thinness  10-19 years</th>\n",
       "      <th>thinness 5-9 years</th>\n",
       "      <th>Income composition of resources</th>\n",
       "      <th>Schooling</th>\n",
       "    </tr>\n",
       "  </thead>\n",
       "  <tbody>\n",
       "    <tr>\n",
       "      <th>0</th>\n",
       "      <td>2644</td>\n",
       "      <td>151.0</td>\n",
       "      <td>0</td>\n",
       "      <td>1.80</td>\n",
       "      <td>423.295351</td>\n",
       "      <td>9.0</td>\n",
       "      <td>0</td>\n",
       "      <td>68.6</td>\n",
       "      <td>0</td>\n",
       "      <td>91.0</td>\n",
       "      <td>4.87</td>\n",
       "      <td>9.0</td>\n",
       "      <td>0.1</td>\n",
       "      <td>2284.378580</td>\n",
       "      <td>146.0</td>\n",
       "      <td>0.1</td>\n",
       "      <td>0.1</td>\n",
       "      <td>0.693</td>\n",
       "      <td>14.6</td>\n",
       "    </tr>\n",
       "    <tr>\n",
       "      <th>1</th>\n",
       "      <td>2645</td>\n",
       "      <td>153.0</td>\n",
       "      <td>0</td>\n",
       "      <td>1.79</td>\n",
       "      <td>45.851058</td>\n",
       "      <td>85.0</td>\n",
       "      <td>0</td>\n",
       "      <td>67.8</td>\n",
       "      <td>0</td>\n",
       "      <td>91.0</td>\n",
       "      <td>5.90</td>\n",
       "      <td>9.0</td>\n",
       "      <td>0.1</td>\n",
       "      <td>229.714718</td>\n",
       "      <td>99789.0</td>\n",
       "      <td>0.1</td>\n",
       "      <td>0.1</td>\n",
       "      <td>0.683</td>\n",
       "      <td>13.7</td>\n",
       "    </tr>\n",
       "    <tr>\n",
       "      <th>2</th>\n",
       "      <td>2646</td>\n",
       "      <td>155.0</td>\n",
       "      <td>0</td>\n",
       "      <td>1.51</td>\n",
       "      <td>310.820338</td>\n",
       "      <td>88.0</td>\n",
       "      <td>0</td>\n",
       "      <td>67.0</td>\n",
       "      <td>0</td>\n",
       "      <td>85.0</td>\n",
       "      <td>5.30</td>\n",
       "      <td>84.0</td>\n",
       "      <td>0.1</td>\n",
       "      <td>1842.444210</td>\n",
       "      <td>99184.0</td>\n",
       "      <td>0.1</td>\n",
       "      <td>0.1</td>\n",
       "      <td>0.679</td>\n",
       "      <td>13.5</td>\n",
       "    </tr>\n",
       "    <tr>\n",
       "      <th>3</th>\n",
       "      <td>2647</td>\n",
       "      <td>157.0</td>\n",
       "      <td>0</td>\n",
       "      <td>1.35</td>\n",
       "      <td>330.100739</td>\n",
       "      <td>91.0</td>\n",
       "      <td>4</td>\n",
       "      <td>66.2</td>\n",
       "      <td>0</td>\n",
       "      <td>91.0</td>\n",
       "      <td>5.66</td>\n",
       "      <td>89.0</td>\n",
       "      <td>0.1</td>\n",
       "      <td>1837.977391</td>\n",
       "      <td>98611.0</td>\n",
       "      <td>0.1</td>\n",
       "      <td>0.1</td>\n",
       "      <td>0.674</td>\n",
       "      <td>13.2</td>\n",
       "    </tr>\n",
       "    <tr>\n",
       "      <th>4</th>\n",
       "      <td>2648</td>\n",
       "      <td>158.0</td>\n",
       "      <td>0</td>\n",
       "      <td>1.24</td>\n",
       "      <td>40.491289</td>\n",
       "      <td>93.0</td>\n",
       "      <td>0</td>\n",
       "      <td>65.5</td>\n",
       "      <td>0</td>\n",
       "      <td>91.0</td>\n",
       "      <td>4.75</td>\n",
       "      <td>91.0</td>\n",
       "      <td>0.1</td>\n",
       "      <td>263.272360</td>\n",
       "      <td>9882.0</td>\n",
       "      <td>0.1</td>\n",
       "      <td>0.1</td>\n",
       "      <td>0.676</td>\n",
       "      <td>13.7</td>\n",
       "    </tr>\n",
       "  </tbody>\n",
       "</table>\n",
       "</div>"
      ],
      "text/plain": [
       "   Unnamed: 0  Adult Mortality  infant deaths  Alcohol  \\\n",
       "0        2644            151.0              0     1.80   \n",
       "1        2645            153.0              0     1.79   \n",
       "2        2646            155.0              0     1.51   \n",
       "3        2647            157.0              0     1.35   \n",
       "4        2648            158.0              0     1.24   \n",
       "\n",
       "   percentage expenditure  Hepatitis B  Measles   BMI  under-five deaths  \\\n",
       "0              423.295351          9.0        0  68.6                  0   \n",
       "1               45.851058         85.0        0  67.8                  0   \n",
       "2              310.820338         88.0        0  67.0                  0   \n",
       "3              330.100739         91.0        4  66.2                  0   \n",
       "4               40.491289         93.0        0  65.5                  0   \n",
       "\n",
       "   Polio  Total expenditure  Diphtheria  HIV/AIDS          GDP  Population  \\\n",
       "0   91.0               4.87         9.0       0.1  2284.378580       146.0   \n",
       "1   91.0               5.90         9.0       0.1   229.714718     99789.0   \n",
       "2   85.0               5.30        84.0       0.1  1842.444210     99184.0   \n",
       "3   91.0               5.66        89.0       0.1  1837.977391     98611.0   \n",
       "4   91.0               4.75        91.0       0.1   263.272360      9882.0   \n",
       "\n",
       "   thinness  10-19 years  thinness 5-9 years  Income composition of resources  \\\n",
       "0                    0.1                 0.1                            0.693   \n",
       "1                    0.1                 0.1                            0.683   \n",
       "2                    0.1                 0.1                            0.679   \n",
       "3                    0.1                 0.1                            0.674   \n",
       "4                    0.1                 0.1                            0.676   \n",
       "\n",
       "   Schooling  \n",
       "0       14.6  \n",
       "1       13.7  \n",
       "2       13.5  \n",
       "3       13.2  \n",
       "4       13.7  "
      ]
     },
     "execution_count": 4,
     "metadata": {},
     "output_type": "execute_result"
    }
   ],
   "source": [
    "# Mostrar los datos\n",
    "df_datos.head()"
   ]
  },
  {
   "cell_type": "code",
   "execution_count": 5,
   "metadata": {},
   "outputs": [
    {
     "data": {
      "text/plain": [
       "Unnamed: 0                           int64\n",
       "Adult Mortality                    float64\n",
       "infant deaths                        int64\n",
       "Alcohol                            float64\n",
       "percentage expenditure             float64\n",
       "Hepatitis B                        float64\n",
       "Measles                              int64\n",
       "BMI                                float64\n",
       "under-five deaths                    int64\n",
       "Polio                              float64\n",
       "Total expenditure                  float64\n",
       "Diphtheria                         float64\n",
       "HIV/AIDS                           float64\n",
       "GDP                                float64\n",
       "Population                         float64\n",
       "thinness  10-19 years              float64\n",
       "thinness 5-9 years                 float64\n",
       "Income composition of resources    float64\n",
       "Schooling                          float64\n",
       "dtype: object"
      ]
     },
     "execution_count": 5,
     "metadata": {},
     "output_type": "execute_result"
    }
   ],
   "source": [
    "# Podemos ver los tipos de todas la variables.\n",
    "df_datos.dtypes"
   ]
  },
  {
   "cell_type": "code",
   "execution_count": 6,
   "metadata": {},
   "outputs": [
    {
     "data": {
      "text/html": [
       "<div>\n",
       "<style scoped>\n",
       "    .dataframe tbody tr th:only-of-type {\n",
       "        vertical-align: middle;\n",
       "    }\n",
       "\n",
       "    .dataframe tbody tr th {\n",
       "        vertical-align: top;\n",
       "    }\n",
       "\n",
       "    .dataframe thead th {\n",
       "        text-align: right;\n",
       "    }\n",
       "</style>\n",
       "<table border=\"1\" class=\"dataframe\">\n",
       "  <thead>\n",
       "    <tr style=\"text-align: right;\">\n",
       "      <th></th>\n",
       "      <th>Unnamed: 0</th>\n",
       "      <th>Adult Mortality</th>\n",
       "      <th>infant deaths</th>\n",
       "      <th>Alcohol</th>\n",
       "      <th>percentage expenditure</th>\n",
       "      <th>Hepatitis B</th>\n",
       "      <th>Measles</th>\n",
       "      <th>BMI</th>\n",
       "      <th>under-five deaths</th>\n",
       "      <th>Polio</th>\n",
       "      <th>Total expenditure</th>\n",
       "      <th>Diphtheria</th>\n",
       "      <th>HIV/AIDS</th>\n",
       "      <th>GDP</th>\n",
       "      <th>Population</th>\n",
       "      <th>thinness  10-19 years</th>\n",
       "      <th>thinness 5-9 years</th>\n",
       "      <th>Income composition of resources</th>\n",
       "      <th>Schooling</th>\n",
       "    </tr>\n",
       "  </thead>\n",
       "  <tbody>\n",
       "    <tr>\n",
       "      <th>count</th>\n",
       "      <td>294.000000</td>\n",
       "      <td>294.000000</td>\n",
       "      <td>294.000000</td>\n",
       "      <td>294.000000</td>\n",
       "      <td>294.000000</td>\n",
       "      <td>294.000000</td>\n",
       "      <td>294.000000</td>\n",
       "      <td>294.000000</td>\n",
       "      <td>294.000000</td>\n",
       "      <td>294.000000</td>\n",
       "      <td>294.000000</td>\n",
       "      <td>294.000000</td>\n",
       "      <td>294.000000</td>\n",
       "      <td>294.000000</td>\n",
       "      <td>2.940000e+02</td>\n",
       "      <td>294.000000</td>\n",
       "      <td>294.000000</td>\n",
       "      <td>294.000000</td>\n",
       "      <td>294.000000</td>\n",
       "    </tr>\n",
       "    <tr>\n",
       "      <th>mean</th>\n",
       "      <td>2790.500000</td>\n",
       "      <td>180.156463</td>\n",
       "      <td>22.748299</td>\n",
       "      <td>4.031327</td>\n",
       "      <td>250.691789</td>\n",
       "      <td>67.258503</td>\n",
       "      <td>2299.707483</td>\n",
       "      <td>39.811565</td>\n",
       "      <td>31.921769</td>\n",
       "      <td>82.459184</td>\n",
       "      <td>5.934014</td>\n",
       "      <td>80.578231</td>\n",
       "      <td>2.866327</td>\n",
       "      <td>2888.804225</td>\n",
       "      <td>4.541904e+06</td>\n",
       "      <td>5.141497</td>\n",
       "      <td>5.135374</td>\n",
       "      <td>0.492966</td>\n",
       "      <td>9.931293</td>\n",
       "    </tr>\n",
       "    <tr>\n",
       "      <th>std</th>\n",
       "      <td>85.014705</td>\n",
       "      <td>149.969676</td>\n",
       "      <td>28.065706</td>\n",
       "      <td>3.411991</td>\n",
       "      <td>636.324313</td>\n",
       "      <td>35.669719</td>\n",
       "      <td>6887.681389</td>\n",
       "      <td>20.323780</td>\n",
       "      <td>43.125549</td>\n",
       "      <td>21.932024</td>\n",
       "      <td>3.285364</td>\n",
       "      <td>24.922111</td>\n",
       "      <td>6.876873</td>\n",
       "      <td>7269.383426</td>\n",
       "      <td>1.293499e+07</td>\n",
       "      <td>4.007686</td>\n",
       "      <td>4.123723</td>\n",
       "      <td>0.289985</td>\n",
       "      <td>4.827973</td>\n",
       "    </tr>\n",
       "    <tr>\n",
       "      <th>min</th>\n",
       "      <td>2644.000000</td>\n",
       "      <td>0.000000</td>\n",
       "      <td>0.000000</td>\n",
       "      <td>0.000000</td>\n",
       "      <td>0.000000</td>\n",
       "      <td>0.000000</td>\n",
       "      <td>0.000000</td>\n",
       "      <td>1.000000</td>\n",
       "      <td>0.000000</td>\n",
       "      <td>7.000000</td>\n",
       "      <td>0.000000</td>\n",
       "      <td>5.000000</td>\n",
       "      <td>0.100000</td>\n",
       "      <td>0.000000</td>\n",
       "      <td>0.000000e+00</td>\n",
       "      <td>0.100000</td>\n",
       "      <td>0.100000</td>\n",
       "      <td>0.000000</td>\n",
       "      <td>0.000000</td>\n",
       "    </tr>\n",
       "    <tr>\n",
       "      <th>25%</th>\n",
       "      <td>2717.250000</td>\n",
       "      <td>82.000000</td>\n",
       "      <td>3.000000</td>\n",
       "      <td>1.375000</td>\n",
       "      <td>0.000000</td>\n",
       "      <td>53.000000</td>\n",
       "      <td>0.000000</td>\n",
       "      <td>19.300000</td>\n",
       "      <td>3.000000</td>\n",
       "      <td>75.000000</td>\n",
       "      <td>4.400000</td>\n",
       "      <td>75.000000</td>\n",
       "      <td>0.100000</td>\n",
       "      <td>0.000000</td>\n",
       "      <td>0.000000e+00</td>\n",
       "      <td>1.625000</td>\n",
       "      <td>1.600000</td>\n",
       "      <td>0.415000</td>\n",
       "      <td>9.725000</td>\n",
       "    </tr>\n",
       "    <tr>\n",
       "      <th>50%</th>\n",
       "      <td>2790.500000</td>\n",
       "      <td>153.000000</td>\n",
       "      <td>10.000000</td>\n",
       "      <td>2.720000</td>\n",
       "      <td>27.137321</td>\n",
       "      <td>83.000000</td>\n",
       "      <td>55.500000</td>\n",
       "      <td>43.000000</td>\n",
       "      <td>12.000000</td>\n",
       "      <td>92.000000</td>\n",
       "      <td>5.405000</td>\n",
       "      <td>92.000000</td>\n",
       "      <td>0.100000</td>\n",
       "      <td>430.824070</td>\n",
       "      <td>1.055190e+05</td>\n",
       "      <td>5.050000</td>\n",
       "      <td>4.900000</td>\n",
       "      <td>0.600500</td>\n",
       "      <td>11.100000</td>\n",
       "    </tr>\n",
       "    <tr>\n",
       "      <th>75%</th>\n",
       "      <td>2863.750000</td>\n",
       "      <td>231.000000</td>\n",
       "      <td>29.000000</td>\n",
       "      <td>6.632500</td>\n",
       "      <td>194.536691</td>\n",
       "      <td>94.000000</td>\n",
       "      <td>816.500000</td>\n",
       "      <td>57.475000</td>\n",
       "      <td>42.000000</td>\n",
       "      <td>96.000000</td>\n",
       "      <td>7.075000</td>\n",
       "      <td>96.000000</td>\n",
       "      <td>0.775000</td>\n",
       "      <td>2244.678564</td>\n",
       "      <td>2.482152e+06</td>\n",
       "      <td>6.675000</td>\n",
       "      <td>6.700000</td>\n",
       "      <td>0.715750</td>\n",
       "      <td>12.975000</td>\n",
       "    </tr>\n",
       "    <tr>\n",
       "      <th>max</th>\n",
       "      <td>2937.000000</td>\n",
       "      <td>723.000000</td>\n",
       "      <td>116.000000</td>\n",
       "      <td>12.220000</td>\n",
       "      <td>4003.908598</td>\n",
       "      <td>99.000000</td>\n",
       "      <td>49871.000000</td>\n",
       "      <td>79.300000</td>\n",
       "      <td>191.000000</td>\n",
       "      <td>99.000000</td>\n",
       "      <td>17.600000</td>\n",
       "      <td>99.000000</td>\n",
       "      <td>43.500000</td>\n",
       "      <td>45758.955400</td>\n",
       "      <td>7.827147e+07</td>\n",
       "      <td>15.800000</td>\n",
       "      <td>16.400000</td>\n",
       "      <td>0.836000</td>\n",
       "      <td>15.700000</td>\n",
       "    </tr>\n",
       "  </tbody>\n",
       "</table>\n",
       "</div>"
      ],
      "text/plain": [
       "        Unnamed: 0  Adult Mortality  infant deaths     Alcohol  \\\n",
       "count   294.000000       294.000000     294.000000  294.000000   \n",
       "mean   2790.500000       180.156463      22.748299    4.031327   \n",
       "std      85.014705       149.969676      28.065706    3.411991   \n",
       "min    2644.000000         0.000000       0.000000    0.000000   \n",
       "25%    2717.250000        82.000000       3.000000    1.375000   \n",
       "50%    2790.500000       153.000000      10.000000    2.720000   \n",
       "75%    2863.750000       231.000000      29.000000    6.632500   \n",
       "max    2937.000000       723.000000     116.000000   12.220000   \n",
       "\n",
       "       percentage expenditure  Hepatitis B       Measles         BMI  \\\n",
       "count              294.000000   294.000000    294.000000  294.000000   \n",
       "mean               250.691789    67.258503   2299.707483   39.811565   \n",
       "std                636.324313    35.669719   6887.681389   20.323780   \n",
       "min                  0.000000     0.000000      0.000000    1.000000   \n",
       "25%                  0.000000    53.000000      0.000000   19.300000   \n",
       "50%                 27.137321    83.000000     55.500000   43.000000   \n",
       "75%                194.536691    94.000000    816.500000   57.475000   \n",
       "max               4003.908598    99.000000  49871.000000   79.300000   \n",
       "\n",
       "       under-five deaths       Polio  Total expenditure  Diphtheria  \\\n",
       "count         294.000000  294.000000         294.000000  294.000000   \n",
       "mean           31.921769   82.459184           5.934014   80.578231   \n",
       "std            43.125549   21.932024           3.285364   24.922111   \n",
       "min             0.000000    7.000000           0.000000    5.000000   \n",
       "25%             3.000000   75.000000           4.400000   75.000000   \n",
       "50%            12.000000   92.000000           5.405000   92.000000   \n",
       "75%            42.000000   96.000000           7.075000   96.000000   \n",
       "max           191.000000   99.000000          17.600000   99.000000   \n",
       "\n",
       "         HIV/AIDS           GDP    Population  thinness  10-19 years  \\\n",
       "count  294.000000    294.000000  2.940000e+02             294.000000   \n",
       "mean     2.866327   2888.804225  4.541904e+06               5.141497   \n",
       "std      6.876873   7269.383426  1.293499e+07               4.007686   \n",
       "min      0.100000      0.000000  0.000000e+00               0.100000   \n",
       "25%      0.100000      0.000000  0.000000e+00               1.625000   \n",
       "50%      0.100000    430.824070  1.055190e+05               5.050000   \n",
       "75%      0.775000   2244.678564  2.482152e+06               6.675000   \n",
       "max     43.500000  45758.955400  7.827147e+07              15.800000   \n",
       "\n",
       "       thinness 5-9 years  Income composition of resources   Schooling  \n",
       "count          294.000000                       294.000000  294.000000  \n",
       "mean             5.135374                         0.492966    9.931293  \n",
       "std              4.123723                         0.289985    4.827973  \n",
       "min              0.100000                         0.000000    0.000000  \n",
       "25%              1.600000                         0.415000    9.725000  \n",
       "50%              4.900000                         0.600500   11.100000  \n",
       "75%              6.700000                         0.715750   12.975000  \n",
       "max             16.400000                         0.836000   15.700000  "
      ]
     },
     "execution_count": 6,
     "metadata": {},
     "output_type": "execute_result"
    }
   ],
   "source": [
    "# Y hacer una decsripción de los datos\n",
    "df_datos.describe()"
   ]
  },
  {
   "cell_type": "markdown",
   "metadata": {},
   "source": [
    "# 2. Limpieza y preparación de los datos\n",
    "\n",
    "Primero vamos a ejecutar los pasos de limpieza de los datos, relacionados el tratamiento de ausencias y registros duplicados."
   ]
  },
  {
   "cell_type": "code",
   "execution_count": 7,
   "metadata": {},
   "outputs": [],
   "source": [
    "# Es recomendable que todos los pasos de limpieza y preparación se realicen sobre otro archivo.\n",
    "df_datos_t = df_datos"
   ]
  },
  {
   "cell_type": "code",
   "execution_count": 8,
   "metadata": {},
   "outputs": [
    {
     "data": {
      "text/plain": [
       "Unnamed: 0                         0\n",
       "Adult Mortality                    0\n",
       "infant deaths                      0\n",
       "Alcohol                            0\n",
       "percentage expenditure             0\n",
       "Hepatitis B                        0\n",
       "Measles                            0\n",
       "BMI                                0\n",
       "under-five deaths                  0\n",
       "Polio                              0\n",
       "Total expenditure                  0\n",
       "Diphtheria                         0\n",
       "HIV/AIDS                           0\n",
       "GDP                                0\n",
       "Population                         0\n",
       "thinness  10-19 years              0\n",
       "thinness 5-9 years                 0\n",
       "Income composition of resources    0\n",
       "Schooling                          0\n",
       "dtype: int64"
      ]
     },
     "execution_count": 8,
     "metadata": {},
     "output_type": "execute_result"
    }
   ],
   "source": [
    "# Se observa que hay ausencias, sin embargo no son una cantidad significativa:\n",
    "df_datos_t.isnull().sum()"
   ]
  },
  {
   "cell_type": "code",
   "execution_count": 9,
   "metadata": {},
   "outputs": [],
   "source": [
    "# Eliminación registros con ausencias\n",
    "df_datos_t = df_datos_t.dropna()\n",
    "# Eliminación de registros duplicados.\n",
    "df_datos_t = df_datos_t.drop_duplicates()"
   ]
  },
  {
   "cell_type": "code",
   "execution_count": 10,
   "metadata": {},
   "outputs": [
    {
     "data": {
      "text/plain": [
       "Unnamed: 0                           0\n",
       "Adult Mortality                      1\n",
       "infant deaths                       45\n",
       "Alcohol                             17\n",
       "percentage expenditure             113\n",
       "Hepatitis B                         34\n",
       "Measles                             84\n",
       "BMI                                  0\n",
       "under-five deaths                   38\n",
       "Polio                                0\n",
       "Total expenditure                   18\n",
       "Diphtheria                           0\n",
       "HIV/AIDS                             0\n",
       "GDP                                 96\n",
       "Population                         112\n",
       "thinness  10-19 years                0\n",
       "thinness 5-9 years                   0\n",
       "Income composition of resources     67\n",
       "Schooling                           50\n",
       "dtype: int64"
      ]
     },
     "execution_count": 10,
     "metadata": {},
     "output_type": "execute_result"
    }
   ],
   "source": [
    "(df_datos_t==0).sum()"
   ]
  },
  {
   "cell_type": "code",
   "execution_count": 11,
   "metadata": {},
   "outputs": [
    {
     "ename": "AttributeError",
     "evalue": "'DataFrame' object has no attribute 'HoursPerWeek'",
     "output_type": "error",
     "traceback": [
      "\u001b[1;31m---------------------------------------------------------------------------\u001b[0m",
      "\u001b[1;31mAttributeError\u001b[0m                            Traceback (most recent call last)",
      "\u001b[1;32m<ipython-input-11-6b8be393ca56>\u001b[0m in \u001b[0;36m<module>\u001b[1;34m\u001b[0m\n\u001b[0;32m      1\u001b[0m \u001b[1;31m#Si juega 16 horas al dia puede lograr maximo 112 horas a la semana\u001b[0m\u001b[1;33m\u001b[0m\u001b[1;33m\u001b[0m\u001b[1;33m\u001b[0m\u001b[0m\n\u001b[1;32m----> 2\u001b[1;33m \u001b[0mdf_datos_t\u001b[0m \u001b[1;33m=\u001b[0m \u001b[0mdf_datos_t\u001b[0m\u001b[1;33m[\u001b[0m\u001b[0mdf_datos_t\u001b[0m\u001b[1;33m.\u001b[0m\u001b[0mHoursPerWeek\u001b[0m\u001b[1;33m<\u001b[0m\u001b[1;36m112\u001b[0m\u001b[1;33m]\u001b[0m\u001b[1;33m\u001b[0m\u001b[1;33m\u001b[0m\u001b[0m\n\u001b[0m\u001b[0;32m      3\u001b[0m \u001b[1;31m# El juego tiene 10 años por lo que el maximo de horas posibles son 80640\u001b[0m\u001b[1;33m\u001b[0m\u001b[1;33m\u001b[0m\u001b[1;33m\u001b[0m\u001b[0m\n\u001b[0;32m      4\u001b[0m \u001b[0mdf_datos_t\u001b[0m \u001b[1;33m=\u001b[0m \u001b[0mdf_datos_t\u001b[0m\u001b[1;33m[\u001b[0m\u001b[0mdf_datos_t\u001b[0m\u001b[1;33m.\u001b[0m\u001b[0mTotalHours\u001b[0m\u001b[1;33m<\u001b[0m\u001b[1;36m80640\u001b[0m\u001b[1;33m]\u001b[0m\u001b[1;33m\u001b[0m\u001b[1;33m\u001b[0m\u001b[0m\n\u001b[0;32m      5\u001b[0m \u001b[1;31m# Nos interesa la información de los jugadores, si la persona no juega no va a tener una liga asignada\u001b[0m\u001b[1;33m\u001b[0m\u001b[1;33m\u001b[0m\u001b[1;33m\u001b[0m\u001b[0m\n",
      "\u001b[1;32mD:\\Programas\\Anaconda\\lib\\site-packages\\pandas\\core\\generic.py\u001b[0m in \u001b[0;36m__getattr__\u001b[1;34m(self, name)\u001b[0m\n\u001b[0;32m   5463\u001b[0m             \u001b[1;32mif\u001b[0m \u001b[0mself\u001b[0m\u001b[1;33m.\u001b[0m\u001b[0m_info_axis\u001b[0m\u001b[1;33m.\u001b[0m\u001b[0m_can_hold_identifiers_and_holds_name\u001b[0m\u001b[1;33m(\u001b[0m\u001b[0mname\u001b[0m\u001b[1;33m)\u001b[0m\u001b[1;33m:\u001b[0m\u001b[1;33m\u001b[0m\u001b[1;33m\u001b[0m\u001b[0m\n\u001b[0;32m   5464\u001b[0m                 \u001b[1;32mreturn\u001b[0m \u001b[0mself\u001b[0m\u001b[1;33m[\u001b[0m\u001b[0mname\u001b[0m\u001b[1;33m]\u001b[0m\u001b[1;33m\u001b[0m\u001b[1;33m\u001b[0m\u001b[0m\n\u001b[1;32m-> 5465\u001b[1;33m             \u001b[1;32mreturn\u001b[0m \u001b[0mobject\u001b[0m\u001b[1;33m.\u001b[0m\u001b[0m__getattribute__\u001b[0m\u001b[1;33m(\u001b[0m\u001b[0mself\u001b[0m\u001b[1;33m,\u001b[0m \u001b[0mname\u001b[0m\u001b[1;33m)\u001b[0m\u001b[1;33m\u001b[0m\u001b[1;33m\u001b[0m\u001b[0m\n\u001b[0m\u001b[0;32m   5466\u001b[0m \u001b[1;33m\u001b[0m\u001b[0m\n\u001b[0;32m   5467\u001b[0m     \u001b[1;32mdef\u001b[0m \u001b[0m__setattr__\u001b[0m\u001b[1;33m(\u001b[0m\u001b[0mself\u001b[0m\u001b[1;33m,\u001b[0m \u001b[0mname\u001b[0m\u001b[1;33m:\u001b[0m \u001b[0mstr\u001b[0m\u001b[1;33m,\u001b[0m \u001b[0mvalue\u001b[0m\u001b[1;33m)\u001b[0m \u001b[1;33m->\u001b[0m \u001b[1;32mNone\u001b[0m\u001b[1;33m:\u001b[0m\u001b[1;33m\u001b[0m\u001b[1;33m\u001b[0m\u001b[0m\n",
      "\u001b[1;31mAttributeError\u001b[0m: 'DataFrame' object has no attribute 'HoursPerWeek'"
     ]
    }
   ],
   "source": [
    "#Si juega 16 horas al dia puede lograr maximo 112 horas a la semana\n",
    "df_datos_t = df_datos_t[df_datos_t.HoursPerWeek<112]\n",
    "# El juego tiene 10 años por lo que el maximo de horas posibles son 80640\n",
    "df_datos_t = df_datos_t[df_datos_t.TotalHours<80640]\n",
    "# Nos interesa la información de los jugadores, si la persona no juega no va a tener una liga asignada\n",
    "df_datos_t = df_datos_t[df_datos_t.HoursPerWeek>0]\n",
    "# De acuerdo al diccionario el maximo para la variable LeagueIndex es 10\n",
    "df_datos_t = df_datos_t[df_datos_t.LeagueIndex<11]"
   ]
  },
  {
   "cell_type": "code",
   "execution_count": null,
   "metadata": {},
   "outputs": [],
   "source": [
    "# Cantidad de datos y número de variables\n",
    "df_datos_t.shape"
   ]
  },
  {
   "cell_type": "markdown",
   "metadata": {},
   "source": [
    "# 3. Perfilamiento y entendimiento de los datos"
   ]
  },
  {
   "cell_type": "markdown",
   "metadata": {},
   "source": [
    "## 3.1 Búsqueda de relaciones entre variables (diagramas de dispersión)"
   ]
  },
  {
   "cell_type": "code",
   "execution_count": null,
   "metadata": {},
   "outputs": [],
   "source": [
    "sns.pairplot(df_datos_t, height=3, y_vars = 'LeagueIndex', x_vars = df_datos_t.columns[0:5], kind='scatter')\n",
    "sns.pairplot(df_datos_t, height=3, y_vars = 'LeagueIndex', x_vars = df_datos_t.columns[5:10], kind='scatter')\n",
    "sns.pairplot(df_datos_t, height=3, y_vars = 'LeagueIndex', x_vars = df_datos_t.columns[10:15], kind='scatter')\n",
    "sns.pairplot(df_datos_t, height=3, y_vars = 'LeagueIndex', x_vars = df_datos_t.columns[15:], kind='scatter')"
   ]
  },
  {
   "cell_type": "markdown",
   "metadata": {},
   "source": [
    "##  3.2 Búsqueda de relaciones entre variables (Matriz de correlaciones)"
   ]
  },
  {
   "cell_type": "code",
   "execution_count": null,
   "metadata": {},
   "outputs": [],
   "source": [
    "f = plt.figure(figsize=(10, 10))\n",
    "plt.matshow(df_datos_t.corr(), fignum=f.number, cmap = 'seismic')\n",
    "plt.xticks(range(df_datos_t.select_dtypes(['number']).shape[1]), df_datos_t.select_dtypes(['number']).columns, fontsize=14, rotation=45)\n",
    "plt.yticks(range(df_datos_t.select_dtypes(['number']).shape[1]), df_datos_t.select_dtypes(['number']).columns, fontsize=14)\n",
    "cb = plt.colorbar()\n",
    "_ = cb.ax.tick_params(labelsize=14)"
   ]
  },
  {
   "cell_type": "markdown",
   "metadata": {},
   "source": [
    "# Selección de variables del modelo\n",
    "Para seleccionar las variables del modelo se prueba el desempeño individual de cada una de las variables , midiendo su error cuadratico medio (MSE) y su coeficiente de determinación ajustado (R2)."
   ]
  },
  {
   "cell_type": "code",
   "execution_count": null,
   "metadata": {},
   "outputs": [],
   "source": [
    "# Se selecciona la variable objetivo, en este caso \"Outcome\".\n",
    "Y = df_datos_t['LeagueIndex']\n",
    "# Del conjunto de datos se elimina la variable \"Outcome\"\n",
    "X = df_datos_t.drop(['LeagueIndex'], axis=1)"
   ]
  },
  {
   "cell_type": "code",
   "execution_count": null,
   "metadata": {},
   "outputs": [],
   "source": [
    "# Dividimos los datos en conjunto de prueba y conjunto de entrenamiento\n",
    "X_train, X_test, Y_train, Y_test = train_test_split(X, Y, test_size=0.2, random_state=0)\n",
    "\n",
    "print('El conjunto de entrenamiento tiene ' + str(len(X_train.index)) + ' muestras' )\n",
    "print('El conjunto de prueba tiene ' + str(len(X_test.index)) + ' muestras' )"
   ]
  },
  {
   "cell_type": "markdown",
   "metadata": {},
   "source": [
    "### Grafica MSE y R2\n",
    "Resultado del MSE y R2 realizando un entrenamiento y prediccion para cada variable individual "
   ]
  },
  {
   "cell_type": "code",
   "execution_count": null,
   "metadata": {},
   "outputs": [],
   "source": [
    "mse_list=[]\n",
    "score=[]\n",
    "variables = ['Age', 'HoursPerWeek', 'TotalHours', 'APM',\n",
    "       'SelectByHotkeys', 'AssignToHotkeys', 'UniqueHotkeys', 'MinimapAttacks',\n",
    "       'MinimapRightClicks', 'NumberOfPACs', 'GapBetweenPACs', 'ActionLatency',\n",
    "       'ActionsInPAC', 'TotalMapExplored', 'WorkersMade', 'UniqueUnitsMade',\n",
    "       'ComplexUnitsMade', 'ComplexAbilitiesUsed']\n",
    "for i in variables:\n",
    "  X_temp = X_train[[i]]\n",
    "  X_temp_test = X_test[[i]]\n",
    "  \n",
    "  model = LinearRegression()\n",
    "  model.fit(X_temp, Y_train)\n",
    "\n",
    "  y_pred = model.predict(X_temp_test)\n",
    "  score.append(model.score(X_temp_test, Y_test))\n",
    "  mse_list.append(mse(Y_test, y_pred))\n",
    "\n",
    "\n",
    "fig = plt.figure(figsize=(15,20))\n",
    "fig.subplots_adjust(top=0.8)\n",
    "\n",
    "ax1 = fig.add_subplot(211)\n",
    "ax1.set_ylabel('MSE', fontsize=14)\n",
    "ax1.set_xlabel('Variable', fontsize=14)\n",
    "ax1.set_title('MSE', fontsize=18)\n",
    "ax1.bar(variables,mse_list, align='center')\n",
    "plt.xticks(rotation=90)\n",
    "\n",
    "ax2 = fig.add_subplot(212)\n",
    "ax2.set_ylabel('R2', fontsize=14)\n",
    "ax2.set_xlabel('Variable', fontsize=14)\n",
    "ax2.set_title('R2', fontsize=18)\n",
    "ax2.bar(variables,score, align='center')\n",
    "plt.xticks(rotation=90)"
   ]
  },
  {
   "cell_type": "markdown",
   "metadata": {},
   "source": [
    "### Linealidad\n",
    "Se plotea el modelo lineal que se obtiene al usar solo una variable del conjunto de datos"
   ]
  },
  {
   "cell_type": "code",
   "execution_count": null,
   "metadata": {},
   "outputs": [],
   "source": [
    "i = 0\n",
    "for var in variables:\n",
    "    i += 1\n",
    "    X_temp = X_train[[var]]\n",
    "    X_test_temp = X_test[[var]]\n",
    "\n",
    "    model = LinearRegression()\n",
    "    model.fit(X_temp, Y_train)\n",
    "\n",
    "    y_pred = model.predict(X_test_temp)\n",
    "    plt.rcParams['figure.figsize'] = [20, 20]\n",
    "    plt.subplot(4, 5, i)\n",
    "    plt.xlabel(var, fontsize=14)\n",
    "    plt.ylabel(\"LeagueIndex\", fontsize=14)\n",
    "    plt.plot(X_test_temp, y_pred, X_test_temp , Y_test, 'k.')\n",
    "\n",
    "    \n",
    "plt.rcParams['figure.figsize'] = [6.4, 4.8]"
   ]
  },
  {
   "cell_type": "markdown",
   "metadata": {},
   "source": [
    "# Modelos\n",
    "\n",
    "Para modelar el comportamiento de los datos y poder sacar predicciones se usa un modelo de regresión lineal. La regresión Lineal busca una aproximación con coeficientes $\\beta$ = [ $\\beta_1$, $\\dots$, $\\beta_n$] que minimizen el error cuadratico medio entre los datos observados y la predicción modelada por una aproximación lineal.Para modelar el comportamiento de los datos y poder sacar predicciones se usa un modelo de regresión lineal. La regresión Lineal busca una aproximación con coeficientes $\\beta$ = [ $\\beta_1$, $\\dots$, $\\beta_n$] que minimizen el error cuadratico medio entre los datos observados y la predicción modelada por una aproximación lineal."
   ]
  },
  {
   "cell_type": "code",
   "execution_count": null,
   "metadata": {},
   "outputs": [],
   "source": [
    "def transformacion(x):\n",
    "    return x**0.5"
   ]
  },
  {
   "cell_type": "code",
   "execution_count": null,
   "metadata": {},
   "outputs": [],
   "source": [
    "def create_pipe(selected_cols_p, transform=False):\n",
    "    pre = [('initial',ColumnTransformer([(\"selector\", 'passthrough',selected_cols_p)])),]\n",
    "\n",
    "    na_cleanup = [('na_cleanup', SimpleImputer(strategy=\"median\")),]\n",
    "\n",
    "    std = [('std_scaler', StandardScaler()),]\n",
    "\n",
    "    m = [('model', LinearRegression()),]\n",
    "    \n",
    "    transformer = [(\"transformer\",FunctionTransformer(transformacion)),]\n",
    "    \n",
    "    if transform:\n",
    "        pipeline = Pipeline(pre+na_cleanup+transformer+std+m)\n",
    "    else:\n",
    "        pipeline = Pipeline(pre+na_cleanup+std+m)\n",
    "    pipeline = pipeline.fit(X_train, Y_train)\n",
    "    return pipeline"
   ]
  },
  {
   "cell_type": "markdown",
   "metadata": {},
   "source": [
    "### Modelo 1.1\n",
    "Los parametros se seleccionan de acuerdo a la seccion anterior, para el primer modelo se toman las 11 variables que tienen menor error cuadratico medio"
   ]
  },
  {
   "cell_type": "code",
   "execution_count": null,
   "metadata": {},
   "outputs": [],
   "source": [
    "selected_cols=[]\n",
    "\n",
    "for i in range(0, 6):\n",
    "  minimo=10000\n",
    "  act=\"\"\n",
    "  for j in range (0,len(mse_list)):\n",
    "    if mse_list[j]<minimo and variables[j] not in selected_cols:\n",
    "      minimo=mse_list[j]\n",
    "      act=variables[j]\n",
    "  selected_cols.append(act)\n",
    "print('Las variables seleccionadas son: ')\n",
    "for v in selected_cols:\n",
    "  print('', f'* {v.strip()}')"
   ]
  },
  {
   "cell_type": "code",
   "execution_count": null,
   "metadata": {},
   "outputs": [],
   "source": [
    "pipe = create_pipe(selected_cols)"
   ]
  },
  {
   "cell_type": "code",
   "execution_count": null,
   "metadata": {},
   "outputs": [],
   "source": [
    "print(\"R2: \",pipe.score(X_test, Y_test))\n",
    "print(\"ECM: \" , mse(Y_test, pipe.predict(X_test)))"
   ]
  },
  {
   "cell_type": "markdown",
   "metadata": {},
   "source": [
    "### Modelo 1.2\n",
    "Para el modelo 1.2 se tomaron las variables con mayor coeficiente de determinación ajustado (R2)"
   ]
  },
  {
   "cell_type": "code",
   "execution_count": null,
   "metadata": {},
   "outputs": [],
   "source": [
    "selected_cols=[]\n",
    "\n",
    "for i in range(0, 8):\n",
    "  maxi=0\n",
    "  act=\"\"\n",
    "  for j in range (0,len(score)):\n",
    "    if score[j]>maxi and variables[j] not in selected_cols:\n",
    "      maxi=score[j]\n",
    "      act=variables[j]\n",
    "  selected_cols.append(act)\n",
    "\n",
    "print('Las variables seleccionadas son: ')\n",
    "for v in selected_cols:\n",
    "  print('', f'* {v.strip()}')"
   ]
  },
  {
   "cell_type": "code",
   "execution_count": null,
   "metadata": {},
   "outputs": [],
   "source": [
    "pipe = create_pipe(selected_cols)"
   ]
  },
  {
   "cell_type": "code",
   "execution_count": null,
   "metadata": {},
   "outputs": [],
   "source": [
    "print(\"R2: \",pipe.score(X_test, Y_test))\n",
    "print(\"ECM: \" , mse(Y_test, pipe.predict(X_test)))"
   ]
  },
  {
   "cell_type": "markdown",
   "metadata": {},
   "source": [
    "### Modelo 1.3\n",
    "Para el modelo 1.3 se realizan transformaciones sobre los datos de entrada"
   ]
  },
  {
   "cell_type": "code",
   "execution_count": null,
   "metadata": {},
   "outputs": [],
   "source": [
    "variables = ['Age', 'HoursPerWeek', 'TotalHours', 'APM',\n",
    "       'SelectByHotkeys', 'AssignToHotkeys', 'UniqueHotkeys', 'MinimapAttacks',\n",
    "       'MinimapRightClicks', 'NumberOfPACs', 'GapBetweenPACs', 'ActionLatency',\n",
    "       'ActionsInPAC', 'TotalMapExplored', 'WorkersMade', 'UniqueUnitsMade',\n",
    "       'ComplexUnitsMade', 'ComplexAbilitiesUsed']\n",
    "i = 0\n",
    "for var in variables:\n",
    "    i += 1\n",
    "    X_temp = X_train[[var]]**0.5\n",
    "    X_test_temp = X_test[[var]]**0.5\n",
    "  \n",
    "    \n",
    "    model = LinearRegression()\n",
    "    model.fit(X_temp, Y_train)\n",
    "\n",
    "    y_pred = model.predict(X_test_temp)\n",
    "    \n",
    "   \n",
    "    \n",
    "    plt.rcParams['figure.figsize'] = [20, 40]\n",
    "    plt.subplot(10, 4, i)\n",
    "    plt.xlabel(var, fontsize=14)\n",
    "    plt.ylabel(\"LeagueIndex\", fontsize=14)\n",
    "    plt.plot(X_test_temp, y_pred, X_test_temp , Y_test, 'k.')\n",
    "    \n",
    "    \n",
    "    \n",
    "    \n",
    "    i += 1\n",
    "    \n",
    "    X_temp =X_train[[var]]\n",
    "    X_test_temp =X_test[[var]]\n",
    "    model = LinearRegression()\n",
    "    model.fit(X_temp, Y_train)\n",
    "\n",
    "    y_pred = model.predict(X_test_temp)\n",
    "    plt.rcParams['figure.figsize'] = [20, 20]\n",
    "    plt.subplot(10, 4, i)\n",
    "    plt.xlabel(var, fontsize=14)\n",
    "    plt.ylabel(\"LeagueIndex\", fontsize=14)\n",
    "    plt.plot(X_test_temp, y_pred, X_test_temp , Y_test, 'k.')\n",
    "    \n",
    "plt.rcParams['figure.figsize'] = [6.4, 4.8]"
   ]
  },
  {
   "cell_type": "code",
   "execution_count": null,
   "metadata": {},
   "outputs": [],
   "source": [
    "mse_list=[]\n",
    "score=[]\n",
    "variables = [\"ActionLatency\", \"APM\", \"NumberOfPACs\", \"GapBetweenPACs\", \"AssignToHotkeys\", \"SelectByHotkeys\", \"MinimapAttacks\"]\n",
    "variables=['TotalHours', 'APM',\n",
    "       'SelectByHotkeys', 'AssignToHotkeys', 'MinimapAttacks',\n",
    "       'MinimapRightClicks', 'NumberOfPACs', 'GapBetweenPACs', 'ActionLatency',\n",
    "       'ActionsInPAC', 'TotalMapExplored', 'WorkersMade']\n",
    "pipe = create_pipe(variables, transform=True)\n",
    "print(\"R2: \",pipe.score(X_test, Y_test))\n",
    "print(\"ECM: \" , mse(Y_test, pipe.predict(X_test)))\n",
    "\n"
   ]
  },
  {
   "cell_type": "markdown",
   "metadata": {},
   "source": [
    "# Exportar e Importar el Modelo"
   ]
  },
  {
   "cell_type": "code",
   "execution_count": null,
   "metadata": {},
   "outputs": [],
   "source": [
    "df_recent=pd.read_csv('recent.csv', sep=',', encoding = 'utf-8', header=0, na_values=[\"NA-VALUE\"])"
   ]
  },
  {
   "cell_type": "code",
   "execution_count": null,
   "metadata": {},
   "outputs": [],
   "source": [
    "df_recent.shape"
   ]
  },
  {
   "cell_type": "code",
   "execution_count": null,
   "metadata": {},
   "outputs": [],
   "source": [
    " # Usamos la lbreria joblib\n",
    "filename = 'pipeline.joblib'\n",
    "# Se guarda\n",
    "dump(pipeline, filename)   # Se lee\n",
    "p2 = load(filename)\n",
    "\n",
    "p2  # Clasificamos los datos recientes\n",
    "df_recent['LeagueIndex'] = p2.predict(df_recent)  \n",
    "sns.histplot(df_recent['LeagueIndex'])"
   ]
  },
  {
   "cell_type": "markdown",
   "metadata": {},
   "source": []
  },
  {
   "cell_type": "markdown",
   "metadata": {},
   "source": [
    "# Coeficientes"
   ]
  },
  {
   "cell_type": "code",
   "execution_count": null,
   "metadata": {},
   "outputs": [],
   "source": [
    "pipeline['model'].coef_  # En DataFrame\n",
    "pd.DataFrame({'columns':selected_cols, 'coef':pipeline['model'].coef_})"
   ]
  }
 ],
 "metadata": {
  "kernelspec": {
   "display_name": "Python 3",
   "language": "python",
   "name": "python3"
  },
  "language_info": {
   "codemirror_mode": {
    "name": "ipython",
    "version": 3
   },
   "file_extension": ".py",
   "mimetype": "text/x-python",
   "name": "python",
   "nbconvert_exporter": "python",
   "pygments_lexer": "ipython3",
   "version": "3.8.8"
  }
 },
 "nbformat": 4,
 "nbformat_minor": 4
}
